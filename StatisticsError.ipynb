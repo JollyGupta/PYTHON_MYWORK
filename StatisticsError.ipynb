{
 "cells": [
  {
   "cell_type": "code",
   "execution_count": 2,
   "id": "74dfe142-c5ae-4aa4-82d2-6ec53416f2e0",
   "metadata": {},
   "outputs": [],
   "source": [
    "import pandas as pd \n",
    "import numpy as np\n"
   ]
  },
  {
   "cell_type": "code",
   "execution_count": 4,
   "id": "842a5fe1-c287-4b82-aabf-93a263e353c6",
   "metadata": {},
   "outputs": [
    {
     "name": "stdout",
     "output_type": "stream",
     "text": [
      "10000\n"
     ]
    }
   ],
   "source": [
    "from statistics import mode, StatisticsError\n",
    "transactions = [10000, 12000, 15000, 20000, 23000, 26000, 32000, 39000]\n",
    "\n",
    "try:\n",
    "    mode_value = mode(transactions)\n",
    "except StatisticsError:\n",
    "    mode_value = \"No mode\"\n",
    "    \n",
    "print(mode_value)\n",
    "\n"
   ]
  },
  {
   "cell_type": "code",
   "execution_count": 6,
   "id": "87e3ac7a-660c-4e07-a6dd-a28f70cd4f6e",
   "metadata": {},
   "outputs": [
    {
     "name": "stdout",
     "output_type": "stream",
     "text": [
      "21.5\n"
     ]
    }
   ],
   "source": [
    "from statistics import median, StatisticsError\n",
    "transactions = [10, 12, 15, 20, 23, 26, 32, 39]\n",
    "\n",
    "try:\n",
    "    median_value = median(transactions)\n",
    "except StatisticsError:\n",
    "    median_value = \"No median\"\n",
    "    \n",
    "print(median_value)"
   ]
  },
  {
   "cell_type": "code",
   "execution_count": 8,
   "id": "02c3fbff-952c-4c11-95a4-2b31b2edcc72",
   "metadata": {},
   "outputs": [
    {
     "name": "stdout",
     "output_type": "stream",
     "text": [
      "<class 'pandas.core.frame.DataFrame'>\n",
      "21.5\n"
     ]
    }
   ],
   "source": [
    "from statistics import median, StatisticsError\n",
    "transactions = [10, 12, 15, 20, 23, 26, 32, 39]\n",
    "df=pd.DataFrame([transactions])\n",
    "print(type(df))\n",
    "\n",
    "try:\n",
    "    median_value = median(transactions)\n",
    "except StatisticsError:\n",
    "    median_value = \"No median\"\n",
    "    \n",
    "print(median_value)"
   ]
  },
  {
   "cell_type": "code",
   "execution_count": 12,
   "id": "7f64d2af-1a1d-454e-aad7-c403216d5f3e",
   "metadata": {},
   "outputs": [
    {
     "name": "stdout",
     "output_type": "stream",
     "text": [
      "[10, 20, 30.0, 40, 50, 30.0]\n"
     ]
    }
   ],
   "source": [
    "from statistics import median, StatisticsError\n",
    "\n",
    "# Sample data with missing values (None represents missing data)\n",
    "data = [10, 20, None, 40, 50, None]\n",
    "df=pd.DataFrame([data])\n",
    "\n",
    "# Handle missing values and compute the median\n",
    "try:\n",
    "    clean_data = [x for x in data if x is not None]  # Remove missing values #filters out None values\n",
    "    med = median(clean_data)  # Compute median\n",
    "    data = [x if x is not None else med for x in data]  # Replace None with median\n",
    "except StatisticsError:\n",
    "    print(\"Cannot compute median; dataset is empty or invalid.\")\n",
    "    data = [0 if x is None else x for x in data]  # Replace None with default value (e.g., 0)\n",
    "\n",
    "print(data)\n"
   ]
  },
  {
   "cell_type": "code",
   "execution_count": 30,
   "id": "3ef50418-5f8b-4674-bd9e-4321c7207038",
   "metadata": {},
   "outputs": [
    {
     "name": "stdout",
     "output_type": "stream",
     "text": [
      "Cannot compute mode; dataset is empty or has no unique mode.\n",
      "0    Unknown\n",
      "1    Unknown\n",
      "2    Unknown\n",
      "Name: Category, dtype: object\n"
     ]
    }
   ],
   "source": [
    "from statistics import mode, StatisticsError\n",
    "import pandas as pd\n",
    "\n",
    "data = {'Category': [None, None, None]}  # Empty or all missing\n",
    "df = pd.DataFrame(data)\n",
    "\n",
    "try:\n",
    "    most_frequent_value = mode(df['Category'].dropna())\n",
    "    df['Category'].fillna(most_frequent_value, inplace=True)\n",
    "    print(df['Category'])\n",
    "    \n",
    "except StatisticsError:\n",
    "    print(\"Cannot compute mode; dataset is empty or has no unique mode.\")\n",
    "    df['Category'].fillna(\"Unknown\", inplace=True)\n",
    "    print(df['Category'])\n"
   ]
  },
  {
   "cell_type": "code",
   "execution_count": 53,
   "id": "4e95769c-5b65-4855-a8fa-9fc2f070c238",
   "metadata": {},
   "outputs": [
    {
     "name": "stdout",
     "output_type": "stream",
     "text": [
      "Mode: 40\n"
     ]
    }
   ],
   "source": [
    "from statistics import mode, StatisticsError\n",
    "\n",
    "data = [10, 20, None, 40, 50, 40]\n",
    "df=pd.DataFrame([data])\n",
    "\n",
    "# Flatten DataFrame to a list and calculate mode\n",
    "try:\n",
    "    data_as_list = df.values.flatten().tolist()\n",
    "    most_frequent_value = mode(data_as_list)\n",
    "    print(\"Mode:\", most_frequent_value)\n",
    "except StatisticsError:\n",
    "    print(\"No unique mode in the data!\")"
   ]
  },
  {
   "cell_type": "code",
   "execution_count": 40,
   "id": "457bcb25-08de-4ff3-8c2c-da16858348ec",
   "metadata": {},
   "outputs": [
    {
     "name": "stdout",
     "output_type": "stream",
     "text": [
      "    0   1  2   3   4   5\n",
      "0  10  20  0  40  50  50\n"
     ]
    }
   ],
   "source": [
    "##### Wrong --------------------\n",
    "\n",
    "# Sample data with missing values (None represents missing data)\n",
    "data = [10, 20, None, 40, 50, 50]\n",
    "df=pd.DataFrame([data])\n",
    "#df1=df.values.tolist()\n",
    "# Handle missing values and compute the median\n",
    "try:\n",
    "\n",
    "    most_frequent_value = mode(df.dropna())\n",
    "    df.fillna(most_frequent_value, inplace=True)\n",
    "    print(df)\n",
    "\n",
    "\n",
    "except StatisticsError:\n",
    "    print(\"Cannot compute mode; dataset is empty or has no unique mode.\")\n",
    "    df.fillna(0, inplace=True)\n",
    "    print(df)\n",
    "\n"
   ]
  },
  {
   "cell_type": "code",
   "execution_count": null,
   "id": "4e756588-abd8-41e5-a103-c24edcba968b",
   "metadata": {},
   "outputs": [],
   "source": [
    "\"\"\"The mode() function in the statistics module expects a list or 1D sequence, not a DataFrame.\n",
    "You need to extract the relevant column(s) or values first.\"\"\""
   ]
  },
  {
   "cell_type": "code",
   "execution_count": 44,
   "id": "8c384073-0a46-45c7-8542-c42bff245f96",
   "metadata": {},
   "outputs": [
    {
     "ename": "AttributeError",
     "evalue": "'list' object has no attribute 'dropna'",
     "output_type": "error",
     "traceback": [
      "\u001b[1;31m---------------------------------------------------------------------------\u001b[0m",
      "\u001b[1;31mAttributeError\u001b[0m                            Traceback (most recent call last)",
      "Cell \u001b[1;32mIn[44], line 7\u001b[0m\n\u001b[0;32m      4\u001b[0m \u001b[38;5;66;03m# Handle missing values and compute the median\u001b[39;00m\n\u001b[0;32m      5\u001b[0m \u001b[38;5;28;01mtry\u001b[39;00m:\n\u001b[1;32m----> 7\u001b[0m     most_frequent_value \u001b[38;5;241m=\u001b[39m mode(df1\u001b[38;5;241m.\u001b[39mdropna())\n\u001b[0;32m      8\u001b[0m     df1\u001b[38;5;241m.\u001b[39mfillna(most_frequent_value, inplace\u001b[38;5;241m=\u001b[39m\u001b[38;5;28;01mTrue\u001b[39;00m)\n\u001b[0;32m      9\u001b[0m     \u001b[38;5;28mprint\u001b[39m(df1)\n",
      "\u001b[1;31mAttributeError\u001b[0m: 'list' object has no attribute 'dropna'"
     ]
    }
   ],
   "source": [
    "data = [10, 20, None, 40, 50, 50]\n",
    "df=pd.DataFrame([data])\n",
    "df1=df.values.tolist()\n",
    "# Handle missing values and compute the median\n",
    "try:\n",
    "\n",
    "    most_frequent_value = mode(df1.dropna())\n",
    "    df1.fillna(most_frequent_value, inplace=True)\n",
    "    print(df1)\n",
    "\n",
    "\n",
    "except StatisticsError:\n",
    "    print(\"Cannot compute mode; dataset is empty or has no unique mode.\")\n",
    "    df1.fillna(0, inplace=True)\n",
    "    print(df1)\n",
    "\n"
   ]
  },
  {
   "cell_type": "code",
   "execution_count": 42,
   "id": "8893cd83-233a-4367-8237-192ab303f6bb",
   "metadata": {},
   "outputs": [
    {
     "name": "stdout",
     "output_type": "stream",
     "text": [
      "   col_0  col_1  col_2  col_3  col_4  col_5\n",
      "0     10     20     50     40     50     50\n"
     ]
    }
   ],
   "source": [
    "import pandas as pd\n",
    "from statistics import mode, StatisticsError\n",
    "\n",
    "# Sample data with missing values (None represents missing data)\n",
    "data = [10, 20, None, 40, 50, 50]\n",
    "df = pd.DataFrame([data], columns=[f'col_{i}' for i in range(len(data))])  # Add column names\n",
    "\n",
    "# Handle missing values and compute the mode\n",
    "try:\n",
    "    # Flatten the DataFrame and drop None (NaN) values\n",
    "    most_frequent_value = mode(df.values.flatten()[~pd.isna(df.values.flatten())])\n",
    "    df.fillna(most_frequent_value, inplace=True)\n",
    "    print(df)\n",
    "\n",
    "except StatisticsError:\n",
    "    print(\"Cannot compute mode; dataset is empty or has no unique mode.\")\n",
    "    df.fillna(0, inplace=True)\n",
    "    print(df)\n"
   ]
  },
  {
   "cell_type": "code",
   "execution_count": null,
   "id": "4c915dc9-0e5b-40dd-a9dc-b1e5facbccc6",
   "metadata": {},
   "outputs": [],
   "source": [
    "\"\"\"Extract Values and Handle NaNs:\n",
    "\n",
    "df.values.flatten() flattens the DataFrame to a 1D array.\n",
    "[~pd.isna(df.values.flatten())] filters out None (converted to NaN).\n",
    "\n",
    "\"\"\""
   ]
  },
  {
   "cell_type": "code",
   "execution_count": null,
   "id": "68368331-7d19-438a-94b6-ae572a008367",
   "metadata": {},
   "outputs": [],
   "source": []
  },
  {
   "cell_type": "code",
   "execution_count": null,
   "id": "4e65396d-949b-40d5-a546-a35022516946",
   "metadata": {},
   "outputs": [],
   "source": []
  },
  {
   "cell_type": "code",
   "execution_count": null,
   "id": "b122ae57-de1d-4bbe-ab50-470aa084d490",
   "metadata": {},
   "outputs": [],
   "source": []
  }
 ],
 "metadata": {
  "kernelspec": {
   "display_name": "Python 3 (ipykernel)",
   "language": "python",
   "name": "python3"
  },
  "language_info": {
   "codemirror_mode": {
    "name": "ipython",
    "version": 3
   },
   "file_extension": ".py",
   "mimetype": "text/x-python",
   "name": "python",
   "nbconvert_exporter": "python",
   "pygments_lexer": "ipython3",
   "version": "3.12.4"
  }
 },
 "nbformat": 4,
 "nbformat_minor": 5
}
